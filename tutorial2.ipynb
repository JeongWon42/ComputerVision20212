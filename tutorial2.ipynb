{
 "cells": [
  {
   "cell_type": "code",
   "execution_count": 1,
   "id": "12657114-37ca-45ae-8392-fc537b08e3a1",
   "metadata": {
    "tags": []
   },
   "outputs": [],
   "source": [
    "t=[1,2,4,5]"
   ]
  },
  {
   "cell_type": "code",
   "execution_count": 2,
   "id": "aa9eb936-6102-412c-9d99-a722216375da",
   "metadata": {},
   "outputs": [
    {
     "data": {
      "text/plain": [
       "False"
      ]
     },
     "execution_count": 2,
     "metadata": {},
     "output_type": "execute_result"
    }
   ],
   "source": [
    "3 in t"
   ]
  },
  {
   "cell_type": "code",
   "execution_count": 3,
   "id": "d11bec07-303f-4a6f-b277-7c3e47284739",
   "metadata": {},
   "outputs": [
    {
     "data": {
      "text/plain": [
       "True"
      ]
     },
     "execution_count": 3,
     "metadata": {},
     "output_type": "execute_result"
    }
   ],
   "source": [
    "4 in t"
   ]
  },
  {
   "cell_type": "code",
   "execution_count": 4,
   "id": "8f3b192c-f6a3-4df1-b714-6655384ed936",
   "metadata": {},
   "outputs": [
    {
     "data": {
      "text/plain": [
       "False"
      ]
     },
     "execution_count": 4,
     "metadata": {},
     "output_type": "execute_result"
    }
   ],
   "source": [
    "4 not in t"
   ]
  },
  {
   "cell_type": "code",
   "execution_count": 5,
   "id": "788e5752-2e65-4646-b34e-cae0bd4b75c3",
   "metadata": {},
   "outputs": [],
   "source": [
    "a='abcde'"
   ]
  },
  {
   "cell_type": "code",
   "execution_count": 6,
   "id": "0ae9c73d-2d43-43d2-ba7d-10c0af295be0",
   "metadata": {},
   "outputs": [
    {
     "data": {
      "text/plain": [
       "True"
      ]
     },
     "execution_count": 6,
     "metadata": {},
     "output_type": "execute_result"
    }
   ],
   "source": [
    "'c' in a"
   ]
  },
  {
   "cell_type": "code",
   "execution_count": 7,
   "id": "0100f9dc-754a-4282-a3ff-d2a197b8f836",
   "metadata": {},
   "outputs": [
    {
     "data": {
      "text/plain": [
       "True"
      ]
     },
     "execution_count": 7,
     "metadata": {},
     "output_type": "execute_result"
    }
   ],
   "source": [
    "'cd' in a"
   ]
  },
  {
   "cell_type": "code",
   "execution_count": 9,
   "id": "1f106486-5d8b-481d-87e7-a01bf314199d",
   "metadata": {},
   "outputs": [
    {
     "data": {
      "text/plain": [
       "False"
      ]
     },
     "execution_count": 9,
     "metadata": {},
     "output_type": "execute_result"
    }
   ],
   "source": [
    "'ac' in a"
   ]
  },
  {
   "cell_type": "code",
   "execution_count": 10,
   "id": "425439c4-5fe2-4908-abe0-75c61e427305",
   "metadata": {},
   "outputs": [
    {
     "data": {
      "text/plain": [
       "(1, 2, 3, 4, 5, 6)"
      ]
     },
     "execution_count": 10,
     "metadata": {},
     "output_type": "execute_result"
    }
   ],
   "source": [
    "(1,2,3) + (4,5,6)"
   ]
  },
  {
   "cell_type": "code",
   "execution_count": 11,
   "id": "c046ca2f-190f-4071-9d11-f63428b0a8ee",
   "metadata": {},
   "outputs": [
    {
     "data": {
      "text/plain": [
       "[1, 2, 3, 4, 5, 6]"
      ]
     },
     "execution_count": 11,
     "metadata": {},
     "output_type": "execute_result"
    }
   ],
   "source": [
    "[1,2,3] + [4,5,6]"
   ]
  },
  {
   "cell_type": "code",
   "execution_count": 13,
   "id": "3fc89d29-23d2-43e8-91fa-54ad976c246d",
   "metadata": {},
   "outputs": [
    {
     "data": {
      "text/plain": [
       "'Hello World'"
      ]
     },
     "execution_count": 13,
     "metadata": {},
     "output_type": "execute_result"
    }
   ],
   "source": [
    "\"Hello\" + \" \" + \"World\""
   ]
  },
  {
   "cell_type": "code",
   "execution_count": 14,
   "id": "7909db5d-57c6-4c15-8f98-1c97d0da955b",
   "metadata": {},
   "outputs": [],
   "source": [
    "li = ['abc', 23, 4.34, 23]"
   ]
  },
  {
   "cell_type": "code",
   "execution_count": 15,
   "id": "65ab6d92-f3c7-4f93-b0fc-e318b1f87492",
   "metadata": {},
   "outputs": [],
   "source": [
    "li[1] = 45"
   ]
  },
  {
   "cell_type": "code",
   "execution_count": 16,
   "id": "f168ce3e-be49-4430-a3d2-b75b6aa989c4",
   "metadata": {},
   "outputs": [
    {
     "data": {
      "text/plain": [
       "['abc', 45, 4.34, 23]"
      ]
     },
     "execution_count": 16,
     "metadata": {},
     "output_type": "execute_result"
    }
   ],
   "source": [
    "li"
   ]
  },
  {
   "cell_type": "code",
   "execution_count": 17,
   "id": "2cffc980-f309-41bf-aaa4-6b2686d6cacb",
   "metadata": {},
   "outputs": [],
   "source": [
    "t = (23, 'abc', 4.56, (2,3), 'def')"
   ]
  },
  {
   "cell_type": "code",
   "execution_count": 18,
   "id": "7c45a1d6-e077-4f27-8770-77753d8f808e",
   "metadata": {},
   "outputs": [
    {
     "ename": "TypeError",
     "evalue": "'tuple' object does not support item assignment",
     "output_type": "error",
     "traceback": [
      "\u001b[1;31m---------------------------------------------------------------------------\u001b[0m",
      "\u001b[1;31mTypeError\u001b[0m                                 Traceback (most recent call last)",
      "\u001b[1;32m<ipython-input-18-0c5a1fd0e648>\u001b[0m in \u001b[0;36m<module>\u001b[1;34m\u001b[0m\n\u001b[1;32m----> 1\u001b[1;33m \u001b[0mt\u001b[0m\u001b[1;33m[\u001b[0m\u001b[1;36m2\u001b[0m\u001b[1;33m]\u001b[0m \u001b[1;33m=\u001b[0m \u001b[1;36m3.14\u001b[0m\u001b[1;33m\u001b[0m\u001b[1;33m\u001b[0m\u001b[0m\n\u001b[0m",
      "\u001b[1;31mTypeError\u001b[0m: 'tuple' object does not support item assignment"
     ]
    }
   ],
   "source": [
    "t[2] = 3.14"
   ]
  },
  {
   "cell_type": "code",
   "execution_count": 19,
   "id": "abb13913-5d01-4e57-aa27-ef0bfa4cf362",
   "metadata": {},
   "outputs": [],
   "source": [
    "t = (23, 'abc', 3.14, (2,3), 'def')"
   ]
  },
  {
   "cell_type": "code",
   "execution_count": 20,
   "id": "6a09f41e-afd3-41ad-a682-61a4446154e3",
   "metadata": {},
   "outputs": [],
   "source": [
    "li = [1,11,3,4,5]"
   ]
  },
  {
   "cell_type": "code",
   "execution_count": 21,
   "id": "bb179f8f-c353-4041-9d71-e802bfe9e4ee",
   "metadata": {},
   "outputs": [],
   "source": [
    "li.append('a') #Note the method sysntax"
   ]
  },
  {
   "cell_type": "code",
   "execution_count": 22,
   "id": "b62e1cc3-6013-4b61-a137-3aaf4bb9e0da",
   "metadata": {},
   "outputs": [
    {
     "data": {
      "text/plain": [
       "[1, 11, 3, 4, 5, 'a']"
      ]
     },
     "execution_count": 22,
     "metadata": {},
     "output_type": "execute_result"
    }
   ],
   "source": [
    "li"
   ]
  },
  {
   "cell_type": "code",
   "execution_count": 23,
   "id": "aa66ab31-37d8-49bb-b30e-ca933a5a10d8",
   "metadata": {},
   "outputs": [],
   "source": [
    "li.insert(2, 'i')"
   ]
  },
  {
   "cell_type": "code",
   "execution_count": 24,
   "id": "79824b6c-dcc6-401f-b800-0ce10b7e7f14",
   "metadata": {},
   "outputs": [
    {
     "data": {
      "text/plain": [
       "[1, 11, 'i', 3, 4, 5, 'a']"
      ]
     },
     "execution_count": 24,
     "metadata": {},
     "output_type": "execute_result"
    }
   ],
   "source": [
    "li"
   ]
  },
  {
   "cell_type": "code",
   "execution_count": 25,
   "id": "c5f1e417-3d99-4e37-a1e3-ecafded6e592",
   "metadata": {},
   "outputs": [],
   "source": [
    "li.extend([9,8,7])"
   ]
  },
  {
   "cell_type": "code",
   "execution_count": 26,
   "id": "6ec6ec29-562f-4b23-aeed-6a86af7f5620",
   "metadata": {},
   "outputs": [
    {
     "data": {
      "text/plain": [
       "[1, 11, 'i', 3, 4, 5, 'a', 9, 8, 7]"
      ]
     },
     "execution_count": 26,
     "metadata": {},
     "output_type": "execute_result"
    }
   ],
   "source": [
    "li\n"
   ]
  },
  {
   "cell_type": "code",
   "execution_count": 27,
   "id": "050e9920-38df-4e7f-a630-ce701a061a70",
   "metadata": {},
   "outputs": [],
   "source": [
    "li.append([10,11,12])"
   ]
  },
  {
   "cell_type": "code",
   "execution_count": 28,
   "id": "cfda54ca-14e2-45be-ad1b-3cb188eeca82",
   "metadata": {},
   "outputs": [
    {
     "data": {
      "text/plain": [
       "[1, 11, 'i', 3, 4, 5, 'a', 9, 8, 7, [10, 11, 12]]"
      ]
     },
     "execution_count": 28,
     "metadata": {},
     "output_type": "execute_result"
    }
   ],
   "source": [
    "li"
   ]
  },
  {
   "cell_type": "code",
   "execution_count": 29,
   "id": "eb9344b5-f6cf-42e1-80c9-9decf8dd9e47",
   "metadata": {},
   "outputs": [],
   "source": [
    "li=['a','b','c','b']"
   ]
  },
  {
   "cell_type": "code",
   "execution_count": 30,
   "id": "a86014fc-c475-43be-ab92-8a6074925373",
   "metadata": {},
   "outputs": [
    {
     "data": {
      "text/plain": [
       "1"
      ]
     },
     "execution_count": 30,
     "metadata": {},
     "output_type": "execute_result"
    }
   ],
   "source": [
    "li.index('b') #index of first occurrence"
   ]
  },
  {
   "cell_type": "code",
   "execution_count": 31,
   "id": "2913e857-0f71-4b66-a028-3516dc828981",
   "metadata": {},
   "outputs": [
    {
     "data": {
      "text/plain": [
       "2"
      ]
     },
     "execution_count": 31,
     "metadata": {},
     "output_type": "execute_result"
    }
   ],
   "source": [
    "li.count('b') #number of occurrences"
   ]
  },
  {
   "cell_type": "code",
   "execution_count": 32,
   "id": "33ceacd3-871e-40c9-b668-804991d8322f",
   "metadata": {},
   "outputs": [],
   "source": [
    "li.remove('b') #remove first occurrence"
   ]
  },
  {
   "cell_type": "code",
   "execution_count": 33,
   "id": "4a1de8a0-ec46-4dc4-82cb-4e31133604ad",
   "metadata": {},
   "outputs": [
    {
     "data": {
      "text/plain": [
       "['a', 'c', 'b']"
      ]
     },
     "execution_count": 33,
     "metadata": {},
     "output_type": "execute_result"
    }
   ],
   "source": [
    "li"
   ]
  },
  {
   "cell_type": "code",
   "execution_count": 34,
   "id": "5cc0199c-cee1-4a54-95c6-fa5e9a76d15f",
   "metadata": {},
   "outputs": [],
   "source": [
    "li=[5,2,6,8]"
   ]
  },
  {
   "cell_type": "code",
   "execution_count": 35,
   "id": "72a7aae2-9c4b-4ea6-9bc4-c17fc7dd8eaf",
   "metadata": {},
   "outputs": [],
   "source": [
    "li.reverse() #reverse the list *in place*"
   ]
  },
  {
   "cell_type": "code",
   "execution_count": 36,
   "id": "585d1e6d-185d-4108-88cc-fefe413cfc92",
   "metadata": {},
   "outputs": [
    {
     "data": {
      "text/plain": [
       "[8, 6, 2, 5]"
      ]
     },
     "execution_count": 36,
     "metadata": {},
     "output_type": "execute_result"
    }
   ],
   "source": [
    "li"
   ]
  },
  {
   "cell_type": "code",
   "execution_count": 37,
   "id": "0cf0fff4-fdca-4ce8-b584-9c04d0ed9ffb",
   "metadata": {},
   "outputs": [],
   "source": [
    "li.sort() #sort the list *in place*"
   ]
  },
  {
   "cell_type": "code",
   "execution_count": 38,
   "id": "ca9cf66e-5d55-4212-ae32-1ceaa6c0e4da",
   "metadata": {},
   "outputs": [
    {
     "data": {
      "text/plain": [
       "[2, 5, 6, 8]"
      ]
     },
     "execution_count": 38,
     "metadata": {},
     "output_type": "execute_result"
    }
   ],
   "source": [
    "li"
   ]
  }
 ],
 "metadata": {
  "kernelspec": {
   "display_name": "Python 3",
   "language": "python",
   "name": "python3"
  },
  "language_info": {
   "codemirror_mode": {
    "name": "ipython",
    "version": 3
   },
   "file_extension": ".py",
   "mimetype": "text/x-python",
   "name": "python",
   "nbconvert_exporter": "python",
   "pygments_lexer": "ipython3",
   "version": "3.8.8"
  }
 },
 "nbformat": 4,
 "nbformat_minor": 5
}
