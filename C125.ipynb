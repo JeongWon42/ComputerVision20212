{
 "cells": [
  {
   "cell_type": "markdown",
   "id": "64693063-e725-479d-8630-c7b1f4a23f40",
   "metadata": {},
   "source": [
    "## 1.2.5 Trackbar as the Color Palette\n"
   ]
  },
  {
   "cell_type": "code",
   "execution_count": 1,
   "id": "1ae46876-8171-4af1-aca9-385fd713cd79",
   "metadata": {},
   "outputs": [],
   "source": [
    "import cv2 \n",
    "import numpy as np\n",
    "\n",
    "def nothing(x): pass\n",
    "\n",
    "# Create a black image, a window \n",
    "img = np.zeros((300,512,3), np.uint8) \n",
    "cv2.namedWindow('image')\n",
    "\n",
    "# create trackbars for color change \n",
    "cv2.createTrackbar('R','image',0,255,nothing) \n",
    "cv2.createTrackbar('G','image',0,255,nothing) \n",
    "cv2.createTrackbar('B','image',0,255,nothing)\n",
    "\n",
    "# create switch for ON/OFF functionality \n",
    "switch = '0 : OFF \\n1 : ON' \n",
    "cv2.createTrackbar(switch, 'image',0,1,nothing)\n",
    "\n",
    "while(1): \n",
    "    cv2.imshow('image',img) \n",
    "    k = cv2.waitKey(1) & 0xFF \n",
    "    if k == 27: \n",
    "        break\n",
    "\n",
    "    # get current positions of four trackbars \n",
    "    r = cv2.getTrackbarPos('R','image')\n",
    "    g = cv2.getTrackbarPos('G','image') \n",
    "    b = cv2.getTrackbarPos('B','image') \n",
    "    s = cv2.getTrackbarPos(switch,'image')\n",
    "\n",
    "    if s == 0: \n",
    "        img[:] = 0 \n",
    "    else: \n",
    "        img[:] = [b,g,r]\n",
    "\n",
    "cv2.destroyAllWindows()\n"
   ]
  },
  {
   "cell_type": "code",
   "execution_count": null,
   "id": "24ce2974-6f95-462e-af2d-ccaca68bcf51",
   "metadata": {},
   "outputs": [],
   "source": []
  }
 ],
 "metadata": {
  "kernelspec": {
   "display_name": "Python 3",
   "language": "python",
   "name": "python3"
  },
  "language_info": {
   "codemirror_mode": {
    "name": "ipython",
    "version": 3
   },
   "file_extension": ".py",
   "mimetype": "text/x-python",
   "name": "python",
   "nbconvert_exporter": "python",
   "pygments_lexer": "ipython3",
   "version": "3.9.4"
  }
 },
 "nbformat": 4,
 "nbformat_minor": 5
}
