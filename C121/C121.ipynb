{
 "cells": [
  {
   "cell_type": "code",
   "execution_count": 1,
   "id": "3e79a48a-cac1-4ae8-ad16-206fd9243710",
   "metadata": {},
   "outputs": [],
   "source": [
    "import numpy as np"
   ]
  },
  {
   "cell_type": "code",
   "execution_count": 3,
   "id": "7c2be9c6-9426-43b9-b09e-3c8aa1e44702",
   "metadata": {},
   "outputs": [],
   "source": [
    "import cv2"
   ]
  },
  {
   "cell_type": "code",
   "execution_count": 4,
   "id": "fe2a3c79-82db-457b-b586-c60c701025de",
   "metadata": {},
   "outputs": [],
   "source": [
    "img = cv2.imread('1234.jpg',0)"
   ]
  },
  {
   "cell_type": "code",
   "execution_count": 5,
   "id": "4cbe1f35-ed01-4412-a87f-f41db8ab2545",
   "metadata": {},
   "outputs": [],
   "source": [
    "cv2.imshow('image',img) \n",
    "cv2.waitKey(0) \n",
    "cv2.destroyAllWindows()"
   ]
  },
  {
   "cell_type": "code",
   "execution_count": 8,
   "id": "705540e8-5498-45bb-a4b5-078c85ed7a7b",
   "metadata": {},
   "outputs": [],
   "source": [
    "cv2.imshow('image',img) \n",
    "k = cv2.waitKey(0) \n",
    "if k == 27: # wait for ESC key to exit \n",
    "    cv2.destroyAllWindows() \n",
    "elif k == ord('s'): # wait for 's' key to save and exit \n",
    "    cv2.imwrite('messigray.png',img) \n",
    "    cv2.destroyAllWindows()"
   ]
  },
  {
   "cell_type": "code",
   "execution_count": null,
   "id": "690ee860-9979-4ddc-94dc-d4121401544d",
   "metadata": {},
   "outputs": [],
   "source": []
  }
 ],
 "metadata": {
  "kernelspec": {
   "display_name": "Python 3",
   "language": "python",
   "name": "python3"
  },
  "language_info": {
   "codemirror_mode": {
    "name": "ipython",
    "version": 3
   },
   "file_extension": ".py",
   "mimetype": "text/x-python",
   "name": "python",
   "nbconvert_exporter": "python",
   "pygments_lexer": "ipython3",
   "version": "3.9.4"
  }
 },
 "nbformat": 4,
 "nbformat_minor": 5
}
