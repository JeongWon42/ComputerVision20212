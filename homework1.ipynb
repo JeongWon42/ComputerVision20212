{
 "cells": [
  {
   "cell_type": "code",
   "execution_count": 2,
   "id": "7b2ea936-bc14-4b68-9563-ccc077664e49",
   "metadata": {},
   "outputs": [],
   "source": [
    "import cv2"
   ]
  },
  {
   "cell_type": "code",
   "execution_count": 3,
   "id": "92d96a2b-6a4b-4e95-b572-5ce019e5c84d",
   "metadata": {},
   "outputs": [],
   "source": [
    "import numpy as np"
   ]
  },
  {
   "cell_type": "code",
   "execution_count": 4,
   "id": "068349eb-f03e-48b8-8d55-79fcffadbe62",
   "metadata": {},
   "outputs": [],
   "source": [
    "from matplotlib import pyplot as plt\n",
    "def nothing(x):\n",
    "    pass"
   ]
  },
  {
   "cell_type": "code",
   "execution_count": 9,
   "id": "cd715bfe-b554-4e4d-85cb-7d5cc4230b90",
   "metadata": {},
   "outputs": [],
   "source": [
    "drawing = False\n",
    "mode = True\n",
    "def draw_circle(event, x, y, flags, param):\n",
    "    global ix, iy, drawing, mode\n",
    "    if event == cv2.EVENT_LBUTTONDOWN:\n",
    "        drawing = True\n",
    "        ix, iy = x, y\n",
    "    elif event == cv2.EVENT_MOUSEMOVE:\n",
    "        if drawing == True:\n",
    "            if mode == True:\n",
    "                cv2.rectangle(img,(ix,iy),(x,y),(0,0,255),-1)\n",
    "            else:\n",
    "                cv2.circle(img,(x,y),5,(0,0,255),-1)\n",
    "    elif event == cv2.EVENT_LBUTTONUP:\n",
    "        drawing = False\n",
    "        if mode == True:\n",
    "            cv2.rectangle(img,(ix,iy),(x,y),(0,0,255),1)\n",
    "        else:\n",
    "            cv2.circle(img,(x,y),5,(0,0,255),1)\n",
    "\n",
    "img = cv2.imread('sky.jpg', 1)\n",
    "cv2.namedWindow('image')\n",
    "cv2.setMouseCallback('image', draw_circle)\n",
    "\n",
    "cv2.createTrackbar('Value', 'image', 0, 255, nothing)\n",
    "while(1):\n",
    "    cv2.imshow('image', img)\n",
    "    k = cv2.waitKey(1) & 0xFF\n",
    "    if k == 27:\n",
    "        break      \n",
    "r = cv2.getTrackbarPos('Value', 'image')\n",
    "cv2.destroyAllWindows()"
   ]
  },
  {
   "cell_type": "code",
   "execution_count": null,
   "id": "0a8346ce-1572-4520-9791-f091bab97e85",
   "metadata": {},
   "outputs": [],
   "source": []
  },
  {
   "cell_type": "code",
   "execution_count": null,
   "id": "5cf101a5-f5ff-4708-b59a-44cce21987b4",
   "metadata": {},
   "outputs": [],
   "source": []
  },
  {
   "cell_type": "code",
   "execution_count": null,
   "id": "d458bccb-60dc-402a-8388-a80131866f78",
   "metadata": {},
   "outputs": [],
   "source": []
  }
 ],
 "metadata": {
  "kernelspec": {
   "display_name": "Python 3",
   "language": "python",
   "name": "python3"
  },
  "language_info": {
   "codemirror_mode": {
    "name": "ipython",
    "version": 3
   },
   "file_extension": ".py",
   "mimetype": "text/x-python",
   "name": "python",
   "nbconvert_exporter": "python",
   "pygments_lexer": "ipython3",
   "version": "3.9.4"
  }
 },
 "nbformat": 4,
 "nbformat_minor": 5
}
