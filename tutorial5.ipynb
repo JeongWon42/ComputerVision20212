{
 "cells": [
  {
   "cell_type": "code",
   "execution_count": 1,
   "id": "eff3bfd8-9fb5-4312-b1c5-bc32fd38924e",
   "metadata": {},
   "outputs": [],
   "source": [
    "x = 3"
   ]
  },
  {
   "cell_type": "code",
   "execution_count": 2,
   "id": "3aea1b09-582a-4716-aa42-2f919ca61e52",
   "metadata": {},
   "outputs": [
    {
     "name": "stdout",
     "output_type": "stream",
     "text": [
      "3 still in the loop\n",
      "4 still in the loop\n"
     ]
    }
   ],
   "source": [
    "while x <5:\n",
    "    print (x, \"still in the loop\")\n",
    "    x = x+1"
   ]
  },
  {
   "cell_type": "code",
   "execution_count": 3,
   "id": "32413dd5-1c7d-4109-9e00-7a16fcba72b9",
   "metadata": {},
   "outputs": [],
   "source": [
    "x= 6"
   ]
  },
  {
   "cell_type": "code",
   "execution_count": 4,
   "id": "db3eff18-990f-4d41-94e6-7d157e0ede0f",
   "metadata": {},
   "outputs": [],
   "source": [
    "while x <5:\n",
    "    print(x, \"still in the loop\")"
   ]
  },
  {
   "cell_type": "code",
   "execution_count": 5,
   "id": "7eaa228a-ca8c-4a6a-8ccd-bf03d83c4510",
   "metadata": {},
   "outputs": [],
   "source": [
    "x = x+1"
   ]
  },
  {
   "cell_type": "code",
   "execution_count": null,
   "id": "d20cac63-a026-4992-8298-e4b69b5342e6",
   "metadata": {},
   "outputs": [],
   "source": []
  }
 ],
 "metadata": {
  "kernelspec": {
   "display_name": "Python 3",
   "language": "python",
   "name": "python3"
  },
  "language_info": {
   "codemirror_mode": {
    "name": "ipython",
    "version": 3
   },
   "file_extension": ".py",
   "mimetype": "text/x-python",
   "name": "python",
   "nbconvert_exporter": "python",
   "pygments_lexer": "ipython3",
   "version": "3.9.4"
  }
 },
 "nbformat": 4,
 "nbformat_minor": 5
}
