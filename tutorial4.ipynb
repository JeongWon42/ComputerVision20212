{
 "cells": [
  {
   "cell_type": "code",
   "execution_count": 3,
   "id": "cb9ca0ea-86d9-4b1a-9f64-91320a168d83",
   "metadata": {},
   "outputs": [],
   "source": [
    "x=5\n",
    "y=7"
   ]
  },
  {
   "cell_type": "code",
   "execution_count": 4,
   "id": "b55fba33-ddab-47ce-a30a-4bd221c3be54",
   "metadata": {},
   "outputs": [
    {
     "data": {
      "text/plain": [
       "False"
      ]
     },
     "execution_count": 4,
     "metadata": {},
     "output_type": "execute_result"
    }
   ],
   "source": [
    "x == y"
   ]
  },
  {
   "cell_type": "code",
   "execution_count": 5,
   "id": "eb4a0790-0008-45f1-b7fb-b128c09a2fad",
   "metadata": {},
   "outputs": [
    {
     "data": {
      "text/plain": [
       "True"
      ]
     },
     "execution_count": 5,
     "metadata": {},
     "output_type": "execute_result"
    }
   ],
   "source": [
    "x != y"
   ]
  },
  {
   "cell_type": "code",
   "execution_count": 6,
   "id": "540895d1-032f-403d-b479-23700b48f973",
   "metadata": {},
   "outputs": [
    {
     "data": {
      "text/plain": [
       "True"
      ]
     },
     "execution_count": 6,
     "metadata": {},
     "output_type": "execute_result"
    }
   ],
   "source": [
    "x < y"
   ]
  },
  {
   "cell_type": "code",
   "execution_count": 7,
   "id": "60e77a34-da81-4614-b8b1-e77c18a25dff",
   "metadata": {},
   "outputs": [
    {
     "data": {
      "text/plain": [
       "False"
      ]
     },
     "execution_count": 7,
     "metadata": {},
     "output_type": "execute_result"
    }
   ],
   "source": [
    "x > y"
   ]
  },
  {
   "cell_type": "code",
   "execution_count": 8,
   "id": "cca1acc0-cbec-4f96-b9a8-7c9f98167be7",
   "metadata": {},
   "outputs": [
    {
     "data": {
      "text/plain": [
       "False"
      ]
     },
     "execution_count": 8,
     "metadata": {},
     "output_type": "execute_result"
    }
   ],
   "source": [
    "x is y"
   ]
  },
  {
   "cell_type": "code",
   "execution_count": 9,
   "id": "644f7f4c-de92-414d-bf2f-e1e282fe2851",
   "metadata": {},
   "outputs": [],
   "source": [
    "a=(1,2,3,4)"
   ]
  },
  {
   "cell_type": "code",
   "execution_count": 10,
   "id": "4da7ca2c-2a97-442a-828f-c1fc4009c811",
   "metadata": {},
   "outputs": [],
   "source": [
    "b=(5,6,7,8)"
   ]
  },
  {
   "cell_type": "code",
   "execution_count": 11,
   "id": "2a78f50d-abea-4821-bef1-b06d657dc053",
   "metadata": {},
   "outputs": [
    {
     "data": {
      "text/plain": [
       "(5, 6, 7, 8)"
      ]
     },
     "execution_count": 11,
     "metadata": {},
     "output_type": "execute_result"
    }
   ],
   "source": [
    "a and b"
   ]
  },
  {
   "cell_type": "code",
   "execution_count": 12,
   "id": "a2741af6-a5e0-4db3-a714-16765168cfce",
   "metadata": {},
   "outputs": [
    {
     "data": {
      "text/plain": [
       "(1, 2, 3, 4)"
      ]
     },
     "execution_count": 12,
     "metadata": {},
     "output_type": "execute_result"
    }
   ],
   "source": [
    "a or b"
   ]
  },
  {
   "cell_type": "code",
   "execution_count": 13,
   "id": "fc1c00fc-c385-4326-b30e-a7258e2820ae",
   "metadata": {},
   "outputs": [
    {
     "data": {
      "text/plain": [
       "False"
      ]
     },
     "execution_count": 13,
     "metadata": {},
     "output_type": "execute_result"
    }
   ],
   "source": [
    "not a"
   ]
  },
  {
   "cell_type": "code",
   "execution_count": null,
   "id": "86d1f22e-5477-43e5-8983-e86ab179a5f6",
   "metadata": {},
   "outputs": [],
   "source": []
  }
 ],
 "metadata": {
  "kernelspec": {
   "display_name": "Python 3",
   "language": "python",
   "name": "python3"
  },
  "language_info": {
   "codemirror_mode": {
    "name": "ipython",
    "version": 3
   },
   "file_extension": ".py",
   "mimetype": "text/x-python",
   "name": "python",
   "nbconvert_exporter": "python",
   "pygments_lexer": "ipython3",
   "version": "3.9.4"
  }
 },
 "nbformat": 4,
 "nbformat_minor": 5
}
