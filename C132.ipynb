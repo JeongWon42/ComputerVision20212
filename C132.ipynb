{
 "cells": [
  {
   "cell_type": "markdown",
   "id": "14d41df5-7c13-41de-a6ff-d4bc14a035b3",
   "metadata": {},
   "source": [
    "### 1.3.2 Arithmetic Operations on Images\n"
   ]
  },
  {
   "cell_type": "code",
   "execution_count": 1,
   "id": "b1e0d252-7df9-44cb-b1fb-69f7caf73d04",
   "metadata": {},
   "outputs": [],
   "source": [
    "import cv2\n",
    "import numpy as np\n",
    "from matplotlib import pyplot as plt"
   ]
  },
  {
   "cell_type": "code",
   "execution_count": 2,
   "id": "5b8fe2a7-e6f8-4959-bf57-609adcf95aca",
   "metadata": {},
   "outputs": [
    {
     "data": {
      "text/plain": [
       "260"
      ]
     },
     "execution_count": 2,
     "metadata": {},
     "output_type": "execute_result"
    }
   ],
   "source": [
    "x = 250\n",
    "y = 10\n",
    "x+y"
   ]
  },
  {
   "cell_type": "code",
   "execution_count": 3,
   "id": "c7d1cb16-386d-46d4-90ab-91c3b3d6beb8",
   "metadata": {},
   "outputs": [],
   "source": [
    "x = np.uint8([250])"
   ]
  },
  {
   "cell_type": "code",
   "execution_count": 4,
   "id": "9a92fc09-6ba3-4ff8-8b8f-9ab1daae3321",
   "metadata": {},
   "outputs": [
    {
     "name": "stdout",
     "output_type": "stream",
     "text": [
      "[250]\n"
     ]
    }
   ],
   "source": [
    "print(x)"
   ]
  },
  {
   "cell_type": "code",
   "execution_count": 5,
   "id": "b92baf03-1c6f-4adc-b2fa-9c334dbd2486",
   "metadata": {},
   "outputs": [],
   "source": [
    "y = np.uint8([10])"
   ]
  },
  {
   "cell_type": "code",
   "execution_count": 6,
   "id": "bd332610-113b-41ea-bd0d-a369d2dd5d9e",
   "metadata": {},
   "outputs": [
    {
     "name": "stdout",
     "output_type": "stream",
     "text": [
      "[10]\n"
     ]
    }
   ],
   "source": [
    "print(y)"
   ]
  },
  {
   "cell_type": "code",
   "execution_count": 7,
   "id": "181ae889-dfc5-4788-8594-ebb0b4e91d91",
   "metadata": {},
   "outputs": [
    {
     "data": {
      "text/plain": [
       "array([4], dtype=uint8)"
      ]
     },
     "execution_count": 7,
     "metadata": {},
     "output_type": "execute_result"
    }
   ],
   "source": [
    "x+y"
   ]
  },
  {
   "cell_type": "code",
   "execution_count": 8,
   "id": "3e8b1977-23c3-4d83-8eb7-42a1ae4e2863",
   "metadata": {},
   "outputs": [],
   "source": [
    "#250+10+=260 0,1,2,...,255,0,1,2,3,4,5"
   ]
  },
  {
   "cell_type": "code",
   "execution_count": 9,
   "id": "03d0a7e0-f487-47fc-b587-24202119643c",
   "metadata": {},
   "outputs": [],
   "source": [
    "#0 black 255 white"
   ]
  },
  {
   "cell_type": "code",
   "execution_count": 10,
   "id": "2111d220-a030-42a8-b942-88f43145941f",
   "metadata": {},
   "outputs": [
    {
     "data": {
      "text/plain": [
       "array([[255]], dtype=uint8)"
      ]
     },
     "execution_count": 10,
     "metadata": {},
     "output_type": "execute_result"
    }
   ],
   "source": [
    "cv2.add(x,y)"
   ]
  },
  {
   "cell_type": "code",
   "execution_count": 11,
   "id": "6b9b015a-d311-487b-ad4c-997b89697f4c",
   "metadata": {},
   "outputs": [],
   "source": [
    "img1 = cv2.imread('sky.jpg') \n",
    "img2 = cv2.imread('opencv.jpg')"
   ]
  },
  {
   "cell_type": "code",
   "execution_count": 12,
   "id": "2949a943-07b0-4fa4-a4e6-63e23c0e62a0",
   "metadata": {},
   "outputs": [],
   "source": [
    "w=0.5\n",
    "dst = cv2.addWeighted(img1,w,img2,1-w,0)\n",
    "\n",
    "cv2.imshow('dst',dst) \n",
    "cv2.waitKey(0) \n",
    "cv2.destroyAllWindows()"
   ]
  },
  {
   "cell_type": "code",
   "execution_count": 13,
   "id": "c644112d-5874-4916-96a5-007d9aa22a99",
   "metadata": {},
   "outputs": [],
   "source": [
    "def nothing(x):\n",
    "    pass"
   ]
  },
  {
   "cell_type": "code",
   "execution_count": 16,
   "id": "fab33de1-c397-4613-8d93-1268e3a3b56a",
   "metadata": {},
   "outputs": [],
   "source": [
    "cv2.namedWindow(\"image\")\n",
    "cv2.createTrackbar(\"weight\",\"image\", 0, 255, nothing)\n",
    "while(1): \n",
    "    k = cv2.waitKey(1) & 0xFF\n",
    "    if k ==27:\n",
    "        break\n",
    "    \n",
    "    weight = cv2.getTrackbarPos(\"weight\", \"image\")\n",
    "    dst = cv2.addWeighted(img1,weight/255,img2,1-weight/255, 0)\n",
    "    cv2.imshow(\"image\", dst)\n",
    "  \n",
    "cv2.destroyAllWindows()"
   ]
  },
  {
   "cell_type": "code",
   "execution_count": 23,
   "id": "8c390b3c-03d7-429c-bf90-003a21596e58",
   "metadata": {},
   "outputs": [],
   "source": [
    "# Load two images \n",
    "img1 = cv2.imread('messi.jpg') \n",
    "img2 = cv2.imread('opencvblack.png')"
   ]
  },
  {
   "cell_type": "code",
   "execution_count": 24,
   "id": "fa197011-1098-4ac7-8b11-0e7c73213990",
   "metadata": {},
   "outputs": [],
   "source": [
    "def pltImage(img):\n",
    "    plt.imshow(img)\n",
    "    plt.xticks([]), plt.yticks([])\n",
    "    plt.show()"
   ]
  },
  {
   "cell_type": "code",
   "execution_count": 27,
   "id": "aa76e0ec-e220-4b81-9773-39f01cae874d",
   "metadata": {},
   "outputs": [],
   "source": [
    "# I want to put logo on top-left corner, So I create a ROI \n",
    "rows,cols,channels = img2.shape"
   ]
  },
  {
   "cell_type": "code",
   "execution_count": 28,
   "id": "c903cf9e-1499-491a-a941-94f42d141d32",
   "metadata": {},
   "outputs": [],
   "source": [
    "roi = img1[0:rows, 0:cols ]"
   ]
  },
  {
   "cell_type": "code",
   "execution_count": 28,
   "id": "b530d2e7-41ec-4f35-aa58-29bc61f27e9c",
   "metadata": {},
   "outputs": [],
   "source": [
    "# Now create a mask of logo and create its inverse mask also \n",
    "img2gray = cv2.cvtColor(img2,cv2.COLOR_BGR2GRAY) \n",
    "ret, mask = cv2.threshold(img2gray, 10, 255, cv2.THRESH_BINARY) \n",
    "mask_inv = cv2.bitwise_not(mask)\n",
    "\n",
    "# Now black-out the area of logo in ROI \n",
    "img1_bg = cv2.bitwise_and(roi,roi,mask = mask_inv)\n",
    "\n",
    "# Take only region of logo from logo image. \n",
    "img2_fg = cv2.bitwise_and(img2,img2,mask = mask)\n",
    "\n",
    "# Put logo in ROI and modify the main image \n",
    "dst = cv2.add(img1_bg,img2_fg) \n",
    "img1[0:rows, 0:cols ] = dst"
   ]
  },
  {
   "cell_type": "code",
   "execution_count": 29,
   "id": "179b92eb-21fb-4db3-b261-4c4cd7fe990f",
   "metadata": {},
   "outputs": [],
   "source": [
    "cv2.imshow('res',img1) \n",
    "cv2.waitKey(0) \n",
    "cv2.destroyAllWindows()"
   ]
  }
 ],
 "metadata": {
  "kernelspec": {
   "display_name": "Python 3",
   "language": "python",
   "name": "python3"
  },
  "language_info": {
   "codemirror_mode": {
    "name": "ipython",
    "version": 3
   },
   "file_extension": ".py",
   "mimetype": "text/x-python",
   "name": "python",
   "nbconvert_exporter": "python",
   "pygments_lexer": "ipython3",
   "version": "3.9.4"
  }
 },
 "nbformat": 4,
 "nbformat_minor": 5
}
